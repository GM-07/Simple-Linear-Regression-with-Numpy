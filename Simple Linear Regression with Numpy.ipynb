{
 "cells": [
  {
   "cell_type": "markdown",
   "id": "51c008ee",
   "metadata": {},
   "source": [
    "# Simple Linear Regression with Numpy"
   ]
  },
  {
   "cell_type": "raw",
   "id": "a3af0095",
   "metadata": {},
   "source": [
    "SLR is used to establish a link between a dependent variable Y and an independent variable X in order to be able to then make predictions on Y when X is measured."
   ]
  },
  {
   "cell_type": "code",
   "execution_count": 92,
   "id": "565a12dc",
   "metadata": {},
   "outputs": [],
   "source": [
    "import numpy as np\n",
    "from sklearn.datasets import make_regression\n",
    "import matplotlib.pyplot as plt"
   ]
  },
  {
   "cell_type": "code",
   "execution_count": 93,
   "id": "c39122ef",
   "metadata": {},
   "outputs": [],
   "source": [
    "np.random.seed(0) # to always reproduce the same dataset\n",
    "# Generate a random regression problem.\n",
    "x,y =make_regression(n_samples=100, n_features=1, noise=10)"
   ]
  },
  {
   "cell_type": "code",
   "execution_count": 94,
   "id": "6427ed75",
   "metadata": {},
   "outputs": [
    {
     "data": {
      "text/plain": [
       "<matplotlib.collections.PathCollection at 0x11bdab5d8e0>"
      ]
     },
     "execution_count": 94,
     "metadata": {},
     "output_type": "execute_result"
    },
    {
     "data": {
      "image/png": "[encoded data removed]",
      "text/plain": [
       "<Figure size 432x288 with 1 Axes>"
      ]
     },
     "metadata": {
      "needs_background": "light"
     },
     "output_type": "display_data"
    }
   ],
   "source": [
    "plt.scatter(x,y)"
   ]
  },
  {
   "cell_type": "code",
   "execution_count": 95,
   "id": "e60ded94",
   "metadata": {},
   "outputs": [
    {
     "name": "stdout",
     "output_type": "stream",
     "text": [
      "(100, 1)\n",
      "(100,)\n"
     ]
    }
   ],
   "source": [
    "print(x.shape)\n",
    "print(y.shape)"
   ]
  },
  {
   "cell_type": "raw",
   "id": "b59a54b4",
   "metadata": {},
   "source": [
    "Important: check the dimensions of x and y. Note that y does not have the dimensions (100, 1). We fix the problem with np.reshape"
   ]
  },
  {
   "cell_type": "code",
   "execution_count": 96,
   "id": "770f2887",
   "metadata": {},
   "outputs": [],
   "source": [
    "y=y.reshape(y.shape[0],1)"
   ]
  },
  {
   "cell_type": "code",
   "execution_count": 97,
   "id": "c50d9275",
   "metadata": {},
   "outputs": [
    {
     "data": {
      "text/plain": [
       "(100, 1)"
      ]
     },
     "execution_count": 97,
     "metadata": {},
     "output_type": "execute_result"
    }
   ],
   "source": [
    "y.shape"
   ]
  },
  {
   "cell_type": "code",
   "execution_count": 98,
   "id": "fed72809",
   "metadata": {},
   "outputs": [],
   "source": [
    "X=np.hstack((x,np.ones(x.shape))) #Creation of the matrix X which contains the Bias column."
   ]
  },
  {
   "cell_type": "code",
   "execution_count": 99,
   "id": "78f2a104",
   "metadata": {},
   "outputs": [
    {
     "data": {
      "text/plain": [
       "(2, 1)"
      ]
     },
     "execution_count": 99,
     "metadata": {},
     "output_type": "execute_result"
    }
   ],
   "source": [
    "Theta=np.random.randn(2,1) #Creation of a parameter vector, initialized with random coefficients.\n",
    "Theta.shape"
   ]
  },
  {
   "cell_type": "code",
   "execution_count": 100,
   "id": "7375f655",
   "metadata": {},
   "outputs": [],
   "source": [
    "def model(X,Theta):\n",
    "    return X.dot(Theta)"
   ]
  },
  {
   "cell_type": "markdown",
   "id": "e44e5bbf",
   "metadata": {},
   "source": [
    "# Linear Model "
   ]
  },
  {
   "cell_type": "code",
   "execution_count": 101,
   "id": "afcb152c",
   "metadata": {},
   "outputs": [],
   "source": [
    "def model(X, Theta):\n",
    "    return X.dot(Theta) # We implement our model: F= X* Theta"
   ]
  },
  {
   "cell_type": "code",
   "execution_count": 102,
   "id": "aba60482",
   "metadata": {},
   "outputs": [
    {
     "data": {
      "text/plain": [
       "[<matplotlib.lines.Line2D at 0x11bdabca3d0>]"
      ]
     },
     "execution_count": 102,
     "metadata": {},
     "output_type": "execute_result"
    },
    {
     "data": {
      "image/png": "[encoded data removed]",
      "text/plain": [
       "<Figure size 432x288 with 1 Axes>"
      ]
     },
     "metadata": {
      "needs_background": "light"
     },
     "output_type": "display_data"
    }
   ],
   "source": [
    "plt.scatter(x,y)\n",
    "plt.plot(x, model(X,Theta), c='r')"
   ]
  },
  {
   "cell_type": "markdown",
   "id": "c7ff6b5a",
   "metadata": {},
   "source": [
    "## Loss Function: Mean Squared Error (MSE)"
   ]
  },
  {
   "cell_type": "code",
   "execution_count": 104,
   "id": "5f683b2e",
   "metadata": {},
   "outputs": [],
   "source": [
    "def cost_function(X,y,Theta):\n",
    "    m=len(y)\n",
    "    return 1/(2*m)*np.sum((model(X,Theta)-y)**2) "
   ]
  },
  {
   "cell_type": "code",
   "execution_count": 105,
   "id": "123f0856",
   "metadata": {},
   "outputs": [
    {
     "data": {
      "text/plain": [
       "1009.8259477174702"
      ]
     },
     "execution_count": 105,
     "metadata": {},
     "output_type": "execute_result"
    }
   ],
   "source": [
    "cost_function(X,y,Theta)# mesure the MSE"
   ]
  },
  {
   "cell_type": "markdown",
   "id": "2ce2d67a",
   "metadata": {},
   "source": [
    "## Gradients and Gradient Descent"
   ]
  },
  {
   "cell_type": "code",
   "execution_count": 106,
   "id": "b90d53d5",
   "metadata": {},
   "outputs": [],
   "source": [
    "def grad(X,y,Theta):\n",
    "    return 1/len(y)*X.T.dot(model(X,Theta)-y) # We implement the gradient formula for the MSE"
   ]
  },
  {
   "cell_type": "code",
   "execution_count": 107,
   "id": "7e238036",
   "metadata": {},
   "outputs": [],
   "source": [
    "def gradient_descent(X,y,Theta, learning_rate, n_iterations):\n",
    "    cost_hist=np.zeros(n_iterations)\n",
    "    for i in range (0, n_iterations):\n",
    "        Theta=Theta-learning_rate*grad(X,y,Theta)\n",
    "        cost_hist[i]=cost_function(X,y,Theta)\n",
    "    return Theta, cost_hist"
   ]
  },
  {
   "cell_type": "markdown",
   "id": "f8ce57f1",
   "metadata": {},
   "source": [
    "## Training"
   ]
  },
  {
   "cell_type": "code",
   "execution_count": 108,
   "id": "0c09c24c",
   "metadata": {},
   "outputs": [],
   "source": [
    "# We define a number of iterations, as well as a learning step\n",
    "n_iterations = 1000\n",
    "learning_rate = 0.01\n",
    "Theta_final, cost_hist=gradient_descent(X,y,Theta, learning_rate, n_iterations)"
   ]
  },
  {
   "cell_type": "code",
   "execution_count": 109,
   "id": "5a60ad4a",
   "metadata": {},
   "outputs": [],
   "source": [
    "# creation of a prediction vector which contains the predictions of our final model\n",
    "predictions=  model(X,Theta_final)"
   ]
  },
  {
   "cell_type": "code",
   "execution_count": 110,
   "id": "d7a44fc4",
   "metadata": {},
   "outputs": [
    {
     "data": {
      "text/plain": [
       "[<matplotlib.lines.Line2D at 0x11bdac1cdc0>]"
      ]
     },
     "execution_count": 110,
     "metadata": {},
     "output_type": "execute_result"
    },
    {
     "data": {
      "image/png": "[encoded data removed]",
      "text/plain": [
       "<Figure size 432x288 with 1 Axes>"
      ]
     },
     "metadata": {
      "needs_background": "light"
     },
     "output_type": "display_data"
    }
   ],
   "source": [
    "# Displays the prediction results (in red) compared to our Dataset (in blue)\n",
    "plt.scatter(x,y)\n",
    "plt.plot(x, predictions,c='r')"
   ]
  },
  {
   "cell_type": "markdown",
   "id": "b2c3e75a",
   "metadata": {},
   "source": [
    "# Learning Curve"
   ]
  },
  {
   "cell_type": "markdown",
   "id": "54b5c23d",
   "metadata": {},
   "source": [
    "To check if our Gradient Descent algorithm worked well, we observe the evolution of the cost function through the iterations. We are supposed to obtain a curve which decreases with each iteration until it stagnates at a minimum level (close to zero). If the curve does not follow this pattern, then the learning_rate step may be too high, it is necessary to take a lower step."
   ]
  },
  {
   "cell_type": "code",
   "execution_count": 111,
   "id": "29a9b7fe",
   "metadata": {},
   "outputs": [
    {
     "data": {
      "text/plain": [
       "[<matplotlib.lines.Line2D at 0x11bdac85850>]"
      ]
     },
     "execution_count": 111,
     "metadata": {},
     "output_type": "execute_result"
    },
    {
     "data": {
      "image/png": "[encoded data removed]",
      "text/plain": [
       "<Figure size 432x288 with 1 Axes>"
      ]
     },
     "metadata": {
      "needs_background": "light"
     },
     "output_type": "display_data"
    }
   ],
   "source": [
    "plt.plot(range(1000),cost_hist)"
   ]
  },
  {
   "cell_type": "markdown",
   "id": "b23c1f6f",
   "metadata": {},
   "source": [
    "## Final Step"
   ]
  },
  {
   "cell_type": "raw",
   "id": "000d978b",
   "metadata": {},
   "source": [
    "To evaluate the real performance of our model with a popular metric (for your boss, client, or your colleagues) we can use the coefficient of determination, also known as\n",
    "It comes from the method of least squares. The closer the result is to 1, the better your model is."
   ]
  },
  {
   "cell_type": "code",
   "execution_count": 112,
   "id": "5a50983c",
   "metadata": {},
   "outputs": [],
   "source": [
    "def coeff_determination(y,pred):\n",
    "    u=((y-pred)**2).sum()\n",
    "    v=((y-y.mean())**2).sum()\n",
    "    return 1-u/v"
   ]
  },
  {
   "cell_type": "code",
   "execution_count": 113,
   "id": "d28e9e40",
   "metadata": {},
   "outputs": [
    {
     "data": {
      "text/plain": [
       "0.9417294704806692"
      ]
     },
     "execution_count": 113,
     "metadata": {},
     "output_type": "execute_result"
    }
   ],
   "source": [
    "coeff_determination(y, predictions)"
   ]
  }
 ],
 "metadata": {
  "kernelspec": {
   "display_name": "Python 3 (ipykernel)",
   "language": "python",
   "name": "python3"
  },
  "language_info": {
   "codemirror_mode": {
    "name": "ipython",
    "version": 3
   },
   "file_extension": ".py",
   "mimetype": "text/x-python",
   "name": "python",
   "nbconvert_exporter": "python",
   "pygments_lexer": "ipython3",
   "version": "3.9.7"
  }
 },
 "nbformat": 4,
 "nbformat_minor": 5
}
